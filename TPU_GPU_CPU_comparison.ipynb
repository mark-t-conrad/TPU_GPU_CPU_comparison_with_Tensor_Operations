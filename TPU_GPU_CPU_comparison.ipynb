{
  "nbformat": 4,
  "nbformat_minor": 0,
  "metadata": {
    "colab": {
      "name": "TPU_GPU_CPU_comparison.ipynb",
      "version": "0.3.2",
      "provenance": []
    },
    "kernelspec": {
      "name": "python3",
      "display_name": "Python 3"
    },
    "accelerator": "TPU"
  },
  "cells": [
    {
      "metadata": {
        "id": "u9JSlkRLKhv0",
        "colab_type": "code",
        "colab": {}
      },
      "cell_type": "code",
      "source": [
        "# This Downloads this notebook directly to a Google Drive Storage for GUI based information retrieval.\n",
        "\n",
        "from google.colab import drive\n",
        "drive.mount('/content/drive')"
      ],
      "execution_count": 0,
      "outputs": []
    },
    {
      "metadata": {
        "id": "NLQXIiJ6K4ij",
        "colab_type": "code",
        "colab": {}
      },
      "cell_type": "code",
      "source": [
        "# Here we import the necessary libraries\n",
        "# the Google library to create neural network graphs \n",
        "import tensorflow as tf\n",
        "import numpy as np\n",
        "import pandas as pd\n",
        "import time\n",
        "import os"
      ],
      "execution_count": 0,
      "outputs": []
    },
    {
      "metadata": {
        "id": "7rJjG4tiKxt6",
        "colab_type": "code",
        "colab": {
          "base_uri": "https://localhost:8080/",
          "height": 34
        },
        "outputId": "708b6500-d441-4015-e520-e919fc5f1956"
      },
      "cell_type": "code",
      "source": [
        "# cpu benchmark:\n",
        "\n",
        "def add_op(x,y):\n",
        "  return(x+y)\n",
        "x = tf.placeholder(tf.float32,[1000000,10])\n",
        "y = tf.placeholder(tf.float32,[1000000,10])\n",
        "session = tf.Session()\n",
        "\n",
        "with tf.Session() as session:\n",
        "  start = time.time()\n",
        "  result = session.run(add_op(x,y), feed_dict = {x: np.zeros([1000000,10]), y: np.zeros([1000000,10])})\n",
        "  end = time.time()\n",
        "  print(end-start)"
      ],
      "execution_count": 24,
      "outputs": [
        {
          "output_type": "stream",
          "text": [
            "0.23328375816345215\n"
          ],
          "name": "stdout"
        }
      ]
    },
    {
      "metadata": {
        "id": "VsoZVzQOK2ic",
        "colab_type": "code",
        "colab": {
          "base_uri": "https://localhost:8080/",
          "height": 34
        },
        "outputId": "554e2ccb-8e54-4298-f8bd-6e590841076b"
      },
      "cell_type": "code",
      "source": [
        "\n",
        "def multi_op(x,y):\n",
        "  return(x*y)\n",
        "x = tf.placeholder(tf.float32,[1000000,10])\n",
        "y = tf.placeholder(tf.float32,[1000000,10])\n",
        "session = tf.Session()\n",
        "\n",
        "with tf.Session() as session:\n",
        "  start = time.time()\n",
        "  result = session.run(multi_op(x,y), feed_dict = {x: np.zeros([1000000,10]), y: np.zeros([1000000,10])})\n",
        "  end = time.time()\n",
        "  print(end-start)"
      ],
      "execution_count": 25,
      "outputs": [
        {
          "output_type": "stream",
          "text": [
            "0.1917870044708252\n"
          ],
          "name": "stdout"
        }
      ]
    },
    {
      "metadata": {
        "id": "kEhXAUKVR1zM",
        "colab_type": "code",
        "colab": {}
      },
      "cell_type": "code",
      "source": [
        ""
      ],
      "execution_count": 0,
      "outputs": []
    },
    {
      "metadata": {
        "id": "Xz63LmHpR1v9",
        "colab_type": "code",
        "colab": {}
      },
      "cell_type": "code",
      "source": [
        ""
      ],
      "execution_count": 0,
      "outputs": []
    },
    {
      "metadata": {
        "id": "rdBLqWgUNVti",
        "colab_type": "text"
      },
      "cell_type": "markdown",
      "source": [
        "Here we see the evaluation time for the addition operation on an 8 dimensional array takes about a two-hundreths of a second with a k80 gpu. Now let's change the run-time from GPU to TPU\n",
        "\n"
      ]
    },
    {
      "metadata": {
        "id": "-oM_yKODNoh7",
        "colab_type": "code",
        "colab": {
          "base_uri": "https://localhost:8080/",
          "height": 71
        },
        "outputId": "7a6c04a1-259b-4427-c909-15aa8879a955"
      },
      "cell_type": "code",
      "source": [
        "\n",
        "tpu_address = 'grpc://' + os.environ['COLAB_TPU_ADDR']\n",
        "print('TPU address is ', tpu_address)\n",
        "\n",
        "with tf.Session(tpu_address) as session:\n",
        "  devices = session.list_devices()\n",
        "print(\"TPU devices: \", devices)"
      ],
      "execution_count": 13,
      "outputs": [
        {
          "output_type": "stream",
          "text": [
            "TPU address is  grpc://10.84.36.210:8470\n",
            "TPU devices:  [_DeviceAttributes(/job:tpu_worker/replica:0/task:0/device:CPU:0, CPU, -1, 6439944083457219433), _DeviceAttributes(/job:tpu_worker/replica:0/task:0/device:XLA_CPU:0, XLA_CPU, 17179869184, 11962535389993995849), _DeviceAttributes(/job:tpu_worker/replica:0/task:0/device:XLA_GPU:0, XLA_GPU, 17179869184, 892862032677600460), _DeviceAttributes(/job:tpu_worker/replica:0/task:0/device:TPU:0, TPU, 17179869184, 16493255044049265489), _DeviceAttributes(/job:tpu_worker/replica:0/task:0/device:TPU:1, TPU, 17179869184, 13265266298638696549), _DeviceAttributes(/job:tpu_worker/replica:0/task:0/device:TPU:2, TPU, 17179869184, 9723401090128625952), _DeviceAttributes(/job:tpu_worker/replica:0/task:0/device:TPU:3, TPU, 17179869184, 5622812162628437592), _DeviceAttributes(/job:tpu_worker/replica:0/task:0/device:TPU:4, TPU, 17179869184, 16632792574135499589), _DeviceAttributes(/job:tpu_worker/replica:0/task:0/device:TPU:5, TPU, 17179869184, 13192522060271636166), _DeviceAttributes(/job:tpu_worker/replica:0/task:0/device:TPU:6, TPU, 17179869184, 14195716590216960442), _DeviceAttributes(/job:tpu_worker/replica:0/task:0/device:TPU:7, TPU, 17179869184, 4616011483726515399), _DeviceAttributes(/job:tpu_worker/replica:0/task:0/device:TPU_SYSTEM:0, TPU_SYSTEM, 17179869184, 112115410909496004)]\n"
          ],
          "name": "stdout"
        }
      ]
    },
    {
      "metadata": {
        "id": "OUfzIhPzMbPD",
        "colab_type": "code",
        "colab": {
          "base_uri": "https://localhost:8080/",
          "height": 153
        },
        "outputId": "c2a729b8-3ed1-418d-e78d-7f81cc841737"
      },
      "cell_type": "code",
      "source": [
        "def add_op(x,y):\n",
        "  return x+y\n",
        "\n",
        "x = tf.placeholder(tf.float32,[1000000,10])\n",
        "y = tf.placeholder(tf.float32,[1000000,10])\n",
        "\n",
        "tpu_ops = tf.contrib.tpu.rewrite(add_op,[x,y])\n",
        "session = tf.Session(tpu_address)\n",
        "\n",
        "try:\n",
        "  session.run(tf.contrib.tpu.initialize_system())\n",
        "  start = time.time()\n",
        "  print(session.run(tpu_ops, feed_dict = {x: np.zeros([1000000,10]), y: np.zeros([1000000,10])}))\n",
        "  end = time.time()\n",
        "  print(end-start)\n",
        "  \n",
        "finally:\n",
        "  session.run(tf.contrib.tpu.shutdown_system(),)\n",
        "  session.close()"
      ],
      "execution_count": 14,
      "outputs": [
        {
          "output_type": "stream",
          "text": [
            "[array([[0., 0., 0., ..., 0., 0., 0.],\n",
            "       [0., 0., 0., ..., 0., 0., 0.],\n",
            "       [0., 0., 0., ..., 0., 0., 0.],\n",
            "       ...,\n",
            "       [0., 0., 0., ..., 0., 0., 0.],\n",
            "       [0., 0., 0., ..., 0., 0., 0.],\n",
            "       [0., 0., 0., ..., 0., 0., 0.]], dtype=float32)]\n",
            "0.9194293022155762\n"
          ],
          "name": "stdout"
        }
      ]
    },
    {
      "metadata": {
        "id": "NWnb7T4ZMc-P",
        "colab_type": "code",
        "colab": {
          "base_uri": "https://localhost:8080/",
          "height": 153
        },
        "outputId": "4e7ac6ec-ad82-4748-d816-b38d2823a352"
      },
      "cell_type": "code",
      "source": [
        "def multi_op(x,y):\n",
        "  return x*y\n",
        "\n",
        "x = tf.placeholder(tf.float32,[1000000,10])\n",
        "y = tf.placeholder(tf.float32,[1000000,10])\n",
        "\n",
        "tpu_ops = tf.contrib.tpu.rewrite(multi_op,[x,y])\n",
        "session = tf.Session(tpu_address)\n",
        "\n",
        "try:\n",
        "  session.run(tf.contrib.tpu.initialize_system())\n",
        "  start = time.time()\n",
        "  print(session.run(tpu_ops, feed_dict = {x: np.zeros([1000000,10]), y: np.zeros([1000000,10])}))\n",
        "  end = time.time()\n",
        "  print(end-start)\n",
        "  \n",
        "finally:\n",
        "  session.run(tf.contrib.tpu.shutdown_system(),)\n",
        "  session.close()"
      ],
      "execution_count": 15,
      "outputs": [
        {
          "output_type": "stream",
          "text": [
            "[array([[0., 0., 0., ..., 0., 0., 0.],\n",
            "       [0., 0., 0., ..., 0., 0., 0.],\n",
            "       [0., 0., 0., ..., 0., 0., 0.],\n",
            "       ...,\n",
            "       [0., 0., 0., ..., 0., 0., 0.],\n",
            "       [0., 0., 0., ..., 0., 0., 0.],\n",
            "       [0., 0., 0., ..., 0., 0., 0.]], dtype=float32)]\n",
            "0.5458250045776367\n"
          ],
          "name": "stdout"
        }
      ]
    },
    {
      "metadata": {
        "id": "j_EBTwyaMuzI",
        "colab_type": "code",
        "colab": {
          "base_uri": "https://localhost:8080/",
          "height": 34
        },
        "outputId": "4bcbe944-488a-4497-eac0-316dc021ce63"
      },
      "cell_type": "code",
      "source": [
        "x.shape"
      ],
      "execution_count": 10,
      "outputs": [
        {
          "output_type": "execute_result",
          "data": {
            "text/plain": [
              "(300, 5)"
            ]
          },
          "metadata": {
            "tags": []
          },
          "execution_count": 10
        }
      ]
    },
    {
      "metadata": {
        "id": "J7FmL2BxMv1o",
        "colab_type": "code",
        "colab": {}
      },
      "cell_type": "code",
      "source": [
        ""
      ],
      "execution_count": 0,
      "outputs": []
    },
    {
      "metadata": {
        "id": "2CUdnsOtTf47",
        "colab_type": "text"
      },
      "cell_type": "markdown",
      "source": [
        "We see a noticeable speed-up with the multiply operation, still a little sluggish when compared to the k80 gpu.\n",
        "\n"
      ]
    },
    {
      "metadata": {
        "id": "KOv2mi-2T05A",
        "colab_type": "code",
        "colab": {
          "base_uri": "https://localhost:8080/",
          "height": 272
        },
        "outputId": "b8f6fa02-1ea2-4e72-a3b1-b1eeb32cd903"
      },
      "cell_type": "code",
      "source": [
        "!echo \"# TPU_GPU_CPU_comparison_with_Tensor_Operations\" >> README.md\n",
        "!git init\n",
        "!git add README.md\n",
        "!git commit -m \"first commit\"\n",
        "!git remote add origin https://github.com/mark-t-conrad/TPU_GPU_CPU_comparison_with_Tensor_Operations.git\n",
        "!git push -u origin master"
      ],
      "execution_count": 16,
      "outputs": [
        {
          "output_type": "stream",
          "text": [
            "Initialized empty Git repository in /content/.git/\n",
            "\n",
            "*** Please tell me who you are.\n",
            "\n",
            "Run\n",
            "\n",
            "  git config --global user.email \"you@example.com\"\n",
            "  git config --global user.name \"Your Name\"\n",
            "\n",
            "to set your account's default identity.\n",
            "Omit --global to set the identity only in this repository.\n",
            "\n",
            "fatal: unable to auto-detect email address (got 'root@3cb7b0c3baa9.(none)')\n",
            "error: src refspec master does not match any.\n",
            "error: failed to push some refs to 'https://github.com/mark-t-conrad/TPU_GPU_CPU_comparison_with_Tensor_Operations.git'\n"
          ],
          "name": "stdout"
        }
      ]
    },
    {
      "metadata": {
        "id": "UTKyaOWlcAGo",
        "colab_type": "code",
        "colab": {}
      },
      "cell_type": "code",
      "source": [
        ""
      ],
      "execution_count": 0,
      "outputs": []
    }
  ]
}